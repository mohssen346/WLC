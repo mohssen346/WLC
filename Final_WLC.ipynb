{
 "cells": [
  {
   "cell_type": "code",
   "execution_count": 1,
   "id": "99a3910f",
   "metadata": {
    "scrolled": true
   },
   "outputs": [],
   "source": [
    "from PIL import Image\n",
    "from numpy import array\n",
    "import numpy as np\n",
    "import math\n",
    "import os \n",
    "import subprocess \n",
    "from osgeo import gdal \n",
    "import matplotlib.pyplot as plt"
   ]
  },
  {
   "cell_type": "code",
   "execution_count": 2,
   "id": "9fe1d973",
   "metadata": {
    "scrolled": true
   },
   "outputs": [
    {
     "name": "stdout",
     "output_type": "stream",
     "text": [
      "Slop Weight :0.6\n",
      "aspect Weight:0.5\n",
      "jame adad vrad shed bayad 1 bashad\n",
      "Slop Weight :0.6\n",
      "aspect Weight:0.4\n"
     ]
    }
   ],
   "source": [
    "for i in range(3):\n",
    "    W1 = float(input(\"Slop Weight :\"))\n",
    "    W2 = float(input(\"aspect Weight:\"))\n",
    "    if (W1+W2)!=1:\n",
    "        print(\"jame adad vrad shed bayad 1 bashad\")\n",
    "        continue\n",
    "    else:\n",
    "        break"
   ]
  },
  {
   "cell_type": "code",
   "execution_count": 32,
   "id": "afa5cc72",
   "metadata": {
    "scrolled": false
   },
   "outputs": [
    {
     "name": "stdout",
     "output_type": "stream",
     "text": [
      "Slop: [[14.464219  35.491188  33.10678   ... 41.815197  41.98034   36.332943 ]\n",
      " [10.506695  31.165728  34.886547  ... 41.831104  40.699036  37.49361  ]\n",
      " [ 5.2992964 24.988955  32.73089   ... 39.73455   39.9938    36.795834 ]\n",
      " ...\n",
      " [ 7.7422976 10.2472     9.836968  ...  5.817905   6.7466326  8.010784 ]\n",
      " [ 9.084121  10.841125  11.689538  ...  5.5191584  6.2433925  7.1146493]\n",
      " [ 9.593957  11.562633  11.640335  ... 10.271223   9.971402   8.838001 ]]\n",
      "aspect direction: [[ 33.08706   65.87883   64.690315 ... 160.07376  148.91711  158.6991  ]\n",
      " [ 50.65269   68.01487   66.334015 ... 162.43979  155.4205   148.87283 ]\n",
      " [ 70.11954   80.0271    77.37349  ... 158.6854   160.98975  159.43372 ]\n",
      " ...\n",
      " [259.38635  255.68018  241.97272  ... 156.26443  139.3265   128.24715 ]\n",
      " [229.65755  226.46043  211.55112  ... 157.37918  139.38069  124.971344]\n",
      " [198.60605  211.5278   202.98126  ... 169.7926   160.80685  164.84326 ]]\n"
     ]
    }
   ],
   "source": [
    "fn1 = r'F:\\H\\UT\\Term\\2\\Advanced programming GIS\\FFFFFF\\samani\\data4\\dem\\dem.tif'\n",
    "dem = gdal.Open(fn1)\n",
    "slp1 = gdal.DEMProcessing(\"dem.tif\",dem,\"slope\", computeEdges = True)\n",
    "slp1Array = slp1.GetRasterBand(1).ReadAsArray()\n",
    "print(\"Slop:\",slp1Array)\n",
    "\n",
    "aspect1 = gdal.DEMProcessing(\"aspect.tif\",dem,\"aspect\" , computeEdges = True )\n",
    "aspect1Array = aspect1.GetRasterBand(1).ReadAsArray()\n",
    "print(\"aspect direction:\",aspect1Array)\n",
    "# plt.figure()\n",
    "# plt.imshow(slp1Array)\n",
    "# plt.colorbar()\n",
    "# plt.show()"
   ]
  },
  {
   "cell_type": "code",
   "execution_count": 35,
   "id": "fcfcded8",
   "metadata": {
    "scrolled": true
   },
   "outputs": [
    {
     "name": "stdout",
     "output_type": "stream",
     "text": [
      "[[14.464219  35.491188  33.10678   ... 41.815197  41.98034   36.332943 ]\n",
      " [10.506695  31.165728  34.886547  ... 41.831104  40.699036  37.49361  ]\n",
      " [ 5.2992964 24.988955  32.73089   ... 39.73455   39.9938    36.795834 ]\n",
      " ...\n",
      " [ 7.7422976 10.2472     9.836968  ...  5.817905   6.7466326  8.010784 ]\n",
      " [ 9.084121  10.841125  11.689538  ...  5.5191584  6.2433925  7.1146493]\n",
      " [ 9.593957  11.562633  11.640335  ... 10.271223   9.971402   8.838001 ]]\n",
      "slope direction: [[ 33.08706   65.87883   64.690315 ... 160.07376  148.91711  158.6991  ]\n",
      " [ 50.65269   68.01487   66.334015 ... 162.43979  155.4205   148.87283 ]\n",
      " [ 70.11954   80.0271    77.37349  ... 158.6854   160.98975  159.43372 ]\n",
      " ...\n",
      " [259.38635  255.68018  241.97272  ... 156.26443  139.3265   128.24715 ]\n",
      " [229.65755  226.46043  211.55112  ... 157.37918  139.38069  124.971344]\n",
      " [198.60605  211.5278   202.98126  ... 169.7926   160.80685  164.84326 ]]\n"
     ]
    }
   ],
   "source": [
    "fn2 = r'F:\\H\\UT\\Term\\2\\Advanced programming GIS\\FFFFFF\\samani\\data4\\dem\\dem.tif'\n",
    "dem2 = gdal.Open(fn2)\n",
    "slp2 = gdal.DEMProcessing(\"dem.tif\",dem2,\"slope\", computeEdges = True)\n",
    "slp2Array = slp2.GetRasterBand(1).ReadAsArray()\n",
    "print(slp2Array)\n",
    "\n",
    "\n",
    "aspect2 = gdal.DEMProcessing(\"aspect.tif\",dem,\"aspect\", computeEdges = True)\n",
    "aspect2Array = aspect2.GetRasterBand(1).ReadAsArray()\n",
    "print(\"slope direction:\",aspect2Array)\n",
    "\n",
    "# plt.figure()\n",
    "# plt.imshow(slp2Array)\n",
    "# plt.colorbar()\n",
    "# plt.show()"
   ]
  },
  {
   "cell_type": "code",
   "execution_count": 5,
   "id": "8476f814",
   "metadata": {
    "scrolled": false
   },
   "outputs": [
    {
     "name": "stdout",
     "output_type": "stream",
     "text": [
      "[[14.464219  35.491188  33.10678   ... 41.815197  41.98034   36.332943 ]\n",
      " [10.506695  31.165728  34.886547  ... 41.831104  40.699036  37.49361  ]\n",
      " [ 5.2992964 24.988955  32.73089   ... 39.73455   39.9938    36.795834 ]\n",
      " ...\n",
      " [ 7.7422976 10.2472     9.836968  ...  5.817905   6.7466326  8.010784 ]\n",
      " [ 9.084121  10.841125  11.689538  ...  5.5191584  6.2433925  7.1146493]\n",
      " [ 9.593957  11.562633  11.640335  ... 10.271223   9.971402   8.838001 ]]\n",
      "slope direction: [[ 33.08706   65.87883   64.690315 ... 160.07376  148.91711  158.6991  ]\n",
      " [ 50.65269   68.01487   66.334015 ... 162.43979  155.4205   148.87283 ]\n",
      " [ 70.11954   80.0271    77.37349  ... 158.6854   160.98975  159.43372 ]\n",
      " ...\n",
      " [259.38635  255.68018  241.97272  ... 156.26443  139.3265   128.24715 ]\n",
      " [229.65755  226.46043  211.55112  ... 157.37918  139.38069  124.971344]\n",
      " [198.60605  211.5278   202.98126  ... 169.7926   160.80685  164.84326 ]]\n"
     ]
    }
   ],
   "source": [
    "fn3 = r'F:\\H\\UT\\Term\\2\\Advanced programming GIS\\FFFFFF\\samani\\data4\\dem\\dem.tif'\n",
    "dem3 = gdal.Open(fn3)\n",
    "slp3 = gdal.DEMProcessing(\"dem.tif\",dem,\"slope\", computeEdges = True)\n",
    "slp3Array = slp3.GetRasterBand(1).ReadAsArray()\n",
    "print(slp3Array)\n",
    "\n",
    "aspect3 = gdal.DEMProcessing(\"aspect.tif\",dem,\"aspect\", computeEdges = True)\n",
    "aspect3Array = aspect3.GetRasterBand(1).ReadAsArray()\n",
    "print(\"slope direction:\",aspect3Array)\n",
    "\n",
    "# plt.figure()\n",
    "# plt.imshow(slp3Array)\n",
    "# plt.colorbar()\n",
    "# plt.show()"
   ]
  },
  {
   "cell_type": "code",
   "execution_count": 6,
   "id": "f6e6d4ce",
   "metadata": {
    "scrolled": true
   },
   "outputs": [],
   "source": [
    "# arr_max=slp3Array.max()\n",
    "# arr_min=slp3Array.min()\n",
    "# print(slp3Array.shape)\n",
    "# print(diff_arr)\n",
    "# print(arr_max)\n",
    "# print(arr_min)"
   ]
  },
  {
   "cell_type": "code",
   "execution_count": 7,
   "id": "c6820c9e",
   "metadata": {
    "scrolled": true
   },
   "outputs": [],
   "source": [
    "def normalize(arr, t_min, t_max):\n",
    "    arr_max=arr.max()\n",
    "    arr_min=arr.min()\n",
    "    norm_arr = []\n",
    "    diff = t_max - t_min\n",
    "    diff_arr = arr_max - arr_min\n",
    "    for i in range(2925):\n",
    "        for j in range(2793):\n",
    "                temp = (((arr[i][j] - arr_min) * diff) / diff_arr)\n",
    "                norm_arr.append(temp)\n",
    "    return norm_arr"
   ]
  },
  {
   "cell_type": "code",
   "execution_count": 8,
   "id": "14f962f3",
   "metadata": {
    "scrolled": true
   },
   "outputs": [
    {
     "name": "stdout",
     "output_type": "stream",
     "text": [
      "Original Array =  [[14.464219  35.491188  33.10678   ... 41.815197  41.98034   36.332943 ]\n",
      " [10.506695  31.165728  34.886547  ... 41.831104  40.699036  37.49361  ]\n",
      " [ 5.2992964 24.988955  32.73089   ... 39.73455   39.9938    36.795834 ]\n",
      " ...\n",
      " [ 7.7422976 10.2472     9.836968  ...  5.817905   6.7466326  8.010784 ]\n",
      " [ 9.084121  10.841125  11.689538  ...  5.5191584  6.2433925  7.1146493]\n",
      " [ 9.593957  11.562633  11.640335  ... 10.271223   9.971402   8.838001 ]]\n",
      "Normal Slop Array * W =  [0.10307761057718932, 0.25296154902103496, 0.23596507408007975, 0.0870177992323382, 0.05761657162968743, 0.046736825532554385, 0.05473955976235423, 0.07655805144387293, 0.06956818593197708, 0.0628855949705254]\n",
      "Normal aspect Array * W =  [0.03676350175607961, 0.07319890472105711, 0.07187832912740591, 0.03157805057743234, 0.02286229065412662, 0.010059656098145485, 0.35050892866301187, 0.32879120297832054, 0.33955634268521706, 0.3685263876487556]\n"
     ]
    }
   ],
   "source": [
    "# # # gives range staring from 1 and ending at 1\n",
    "\n",
    "range_to_normalize = (0, 1)\n",
    "normalized_slp_array_1 = normalize(slp1Array,range_to_normalize[0],range_to_normalize[1])\n",
    "normalized_aspect_array_1 = normalize(aspect1Array,range_to_normalize[0],range_to_normalize[1])\n",
    "\n",
    "normalized_slp_array_w1 = [item *W1 for item in normalized_slp_array_1]\n",
    "normalized_aspect_array_w1 = [item *W2 for item in normalized_aspect_array_1]\n",
    "\n",
    "# # # display original and normalized array\n",
    "print(\"Original Array = \", slp1Array)\n",
    "print(\"Normal Slop Array * W = \",normalized_slp_array_w1[0:10])\n",
    "print(\"Normal aspect Array * W = \",normalized_aspect_array_w1[0:10])"
   ]
  },
  {
   "cell_type": "code",
   "execution_count": 9,
   "id": "18ff8d17",
   "metadata": {
    "scrolled": true
   },
   "outputs": [
    {
     "name": "stdout",
     "output_type": "stream",
     "text": [
      "Original Array =  [[14.464219  35.491188  33.10678   ... 41.815197  41.98034   36.332943 ]\n",
      " [10.506695  31.165728  34.886547  ... 41.831104  40.699036  37.49361  ]\n",
      " [ 5.2992964 24.988955  32.73089   ... 39.73455   39.9938    36.795834 ]\n",
      " ...\n",
      " [ 7.7422976 10.2472     9.836968  ...  5.817905   6.7466326  8.010784 ]\n",
      " [ 9.084121  10.841125  11.689538  ...  5.5191584  6.2433925  7.1146493]\n",
      " [ 9.593957  11.562633  11.640335  ... 10.271223   9.971402   8.838001 ]]\n",
      "Normal Slop Array * W =  [0.10307761057718932, 0.25296154902103496, 0.23596507408007975, 0.0870177992323382, 0.05761657162968743, 0.046736825532554385, 0.05473955976235423, 0.07655805144387293, 0.06956818593197708, 0.0628855949705254]\n",
      "Normal aspect Array * W =  [0.03676350175607961, 0.07319890472105711, 0.07187832912740591, 0.03157805057743234, 0.02286229065412662, 0.010059656098145485, 0.35050892866301187, 0.32879120297832054, 0.33955634268521706, 0.3685263876487556]\n"
     ]
    }
   ],
   "source": [
    "# # # gives range staring from 1 and ending at 1\n",
    "range_to_normalize = (0, 1)\n",
    "normalized_slp_array_2 = normalize(slp2Array,range_to_normalize[0],range_to_normalize[1])\n",
    "normalized_aspect_array_2 = normalize(aspect2Array,range_to_normalize[0],range_to_normalize[1])\n",
    "\n",
    "normalized_slp_array_w2 = [item *W1 for item in normalized_slp_array_2]\n",
    "normalized_aspect_array_w2 = [item *W2 for item in normalized_aspect_array_2]\n",
    "\n",
    "# # # display original and normalized array\n",
    "print(\"Original Array = \", slp2Array)\n",
    "print(\"Normal Slop Array * W = \",normalized_slp_array_w2[0:10])\n",
    "print(\"Normal aspect Array * W = \",normalized_aspect_array_w2[0:10])"
   ]
  },
  {
   "cell_type": "code",
   "execution_count": 10,
   "id": "017b07cc",
   "metadata": {},
   "outputs": [
    {
     "name": "stdout",
     "output_type": "stream",
     "text": [
      "Original Array =  [[14.464219  35.491188  33.10678   ... 41.815197  41.98034   36.332943 ]\n",
      " [10.506695  31.165728  34.886547  ... 41.831104  40.699036  37.49361  ]\n",
      " [ 5.2992964 24.988955  32.73089   ... 39.73455   39.9938    36.795834 ]\n",
      " ...\n",
      " [ 7.7422976 10.2472     9.836968  ...  5.817905   6.7466326  8.010784 ]\n",
      " [ 9.084121  10.841125  11.689538  ...  5.5191584  6.2433925  7.1146493]\n",
      " [ 9.593957  11.562633  11.640335  ... 10.271223   9.971402   8.838001 ]]\n",
      "Normal Slop Array * W =  [0.10307761057718932, 0.25296154902103496, 0.23596507408007975, 0.0870177992323382, 0.05761657162968743, 0.046736825532554385, 0.05473955976235423, 0.07655805144387293, 0.06956818593197708, 0.0628855949705254]\n",
      "Normal aspect Array * W =  [0.03676350175607961, 0.07319890472105711, 0.07187832912740591, 0.03157805057743234, 0.02286229065412662, 0.010059656098145485, 0.35050892866301187, 0.32879120297832054, 0.33955634268521706, 0.3685263876487556]\n"
     ]
    }
   ],
   "source": [
    "# # # gives range staring from 1 and ending at 1\n",
    "range_to_normalize = (0, 1)\n",
    "normalized_slp_array_3 = normalize(slp2Array,range_to_normalize[0],range_to_normalize[1])\n",
    "normalized_aspect_array_3 = normalize(aspect2Array,range_to_normalize[0],range_to_normalize[1])\n",
    "\n",
    "normalized_slp_array_w3 = [item *W1 for item in normalized_slp_array_3]\n",
    "normalized_aspect_array_w3 = [item *W2 for item in normalized_aspect_array_3]\n",
    "\n",
    "# # # display original and normalized array\n",
    "print(\"Original Array = \", slp3Array)\n",
    "print(\"Normal Slop Array * W = \",normalized_slp_array_w3[0:10])\n",
    "print(\"Normal aspect Array * W = \",normalized_aspect_array_w3[0:10])"
   ]
  },
  {
   "cell_type": "code",
   "execution_count": 13,
   "id": "77bfe6ed",
   "metadata": {},
   "outputs": [
    {
     "name": "stdout",
     "output_type": "stream",
     "text": [
      "[0.30923283173156796, 0.7588846470631049, 0.7078952222402393, 0.2610533976970146, 0.1728497148890623, 0.14021047659766317, 0.16421867928706269, 0.22967415433161878, 0.20870455779593125, 0.1886567849115762]\n",
      "[0.11029050526823883, 0.21959671416317134, 0.21563498738221773, 0.09473415173229702, 0.06858687196237986, 0.030178968294436455, 1.0515267859890356, 0.9863736089349616, 1.0186690280556512, 1.1055791629462668]\n"
     ]
    }
   ],
   "source": [
    "slp_array_Final = [x + y + z for x, y, z in zip(normalized_slp_array_w3, normalized_slp_array_w2,normalized_slp_array_w3)]\n",
    "aspect_array_Final = [x + y + z for x, y, z in zip(normalized_aspect_array_w1, normalized_aspect_array_w2,normalized_aspect_array_w3)]\n",
    "print(slp_array_Final[0:10])\n",
    "print(aspect_array_Final[0:10])"
   ]
  }
 ],
 "metadata": {
  "kernelspec": {
   "display_name": "Python 3 (ipykernel)",
   "language": "python",
   "name": "python3"
  },
  "language_info": {
   "codemirror_mode": {
    "name": "ipython",
    "version": 3
   },
   "file_extension": ".py",
   "mimetype": "text/x-python",
   "name": "python",
   "nbconvert_exporter": "python",
   "pygments_lexer": "ipython3",
   "version": "3.9.5"
  }
 },
 "nbformat": 4,
 "nbformat_minor": 5
}
